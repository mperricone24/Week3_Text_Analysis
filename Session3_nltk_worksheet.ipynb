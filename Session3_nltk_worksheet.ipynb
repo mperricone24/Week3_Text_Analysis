{
  "cells": [
    {
      "cell_type": "markdown",
      "metadata": {
        "id": "view-in-github",
        "colab_type": "text"
      },
      "source": [
        "<a href=\"https://colab.research.google.com/github/mperricone24/Week3_Text_Analysis/blob/main/Session3_nltk_worksheet.ipynb\" target=\"_parent\"><img src=\"https://colab.research.google.com/assets/colab-badge.svg\" alt=\"Open In Colab\"/></a>"
      ]
    },
    {
      "cell_type": "markdown",
      "id": "f6603cae",
      "metadata": {
        "id": "f6603cae"
      },
      "source": [
        "\n",
        "# 📝 Python for Public Policy — Session 3 Worksheet  \n",
        "**Theme:** Text Analysis with NLTK (Inaugural Speeches or Your Own `.txt`)\n",
        "\n",
        "Use this notebook during the 60‑minute student-driven block. **No presentations** at the end.  \n",
        "You may analyze an NLTK inaugural speech **or** upload your own plain text file (`.txt`).\n",
        "\n",
        "**Timing guide:**  \n",
        "- Part A: 10 min · Part B: 10 min · Part C: 10 min · Part D: 10 min · Part E: 10 min · Part F: 10 min\n"
      ]
    },
    {
      "cell_type": "markdown",
      "id": "f5a58467",
      "metadata": {
        "id": "f5a58467"
      },
      "source": [
        "\n",
        "## Part 0 — Setup (run once)\n",
        "Upgrade NLTK (Colab often pins an older version) and download the datasets we need.\n"
      ]
    },
    {
      "cell_type": "code",
      "execution_count": 46,
      "id": "68206010",
      "metadata": {
        "id": "68206010",
        "colab": {
          "base_uri": "https://localhost:8080/"
        },
        "outputId": "f58f0b13-de42-43fa-f945-8e620e0822f4"
      },
      "outputs": [
        {
          "output_type": "stream",
          "name": "stdout",
          "text": [
            "NLTK version: 3.9.1\n"
          ]
        }
      ],
      "source": [
        "\n",
        "# We upgrade NLTK to the latest version so functions and data work as expected.\n",
        "!pip -q install -U nltk\n",
        "\n",
        "# Now we import nltk and download only the small packages we need for this session.\n",
        "import nltk\n",
        "needed = [\"punkt_tab\",           # tokenizer (splits text into words)\n",
        "          \"stopwords\",       # list of common words to remove (the, and, is, ...)\n",
        "          \"wordnet\",         # lexical database used for lemmatization (getting word roots)\n",
        "          \"averaged_perceptron_tagger_eng\",  # part-of-speech tagger (N/V/Adj/Adv)\n",
        "          \"inaugural\"]       # a small corpus of U.S. inaugural addresses\n",
        "for pkg in needed:\n",
        "    nltk.download(pkg, quiet=True) # no status text printed - just downloads\n",
        "\n",
        "print(\"NLTK version:\", nltk.__version__)\n"
      ]
    },
    {
      "cell_type": "code",
      "source": [
        "!pip -q install -U nltk\n",
        "\n",
        "import nltk\n",
        "needed = [\"punkt_tab\",\n",
        "          \"stopwords\",\n",
        "          \"wordnet\",\n",
        "          \"averaged_perceptron_tagger_eng\", # Fixed typo here\n",
        "          \"inaugural\"]\n",
        "for pkg in needed:\n",
        "    nltk.download(pkg, quiet=True)\n",
        "\n",
        "print(\"NLTK version:\", nltk.__version__)"
      ],
      "metadata": {
        "id": "RTa6p9lC7gfn",
        "outputId": "be9a1fd3-0217-424a-ed8a-b63160e09779",
        "colab": {
          "base_uri": "https://localhost:8080/"
        }
      },
      "id": "RTa6p9lC7gfn",
      "execution_count": 47,
      "outputs": [
        {
          "output_type": "stream",
          "name": "stdout",
          "text": [
            "NLTK version: 3.9.1\n"
          ]
        }
      ]
    },
    {
      "cell_type": "markdown",
      "id": "5b9e4e1d",
      "metadata": {
        "id": "5b9e4e1d"
      },
      "source": [
        "\n",
        "## Part A — Pick Your Text (10 min)\n",
        "Choose **one** source below.\n",
        "\n",
        "### Option 1 — Use the built-in Inaugural Speeches corpus\n"
      ]
    },
    {
      "cell_type": "code",
      "execution_count": 48,
      "id": "40d2ad51",
      "metadata": {
        "id": "40d2ad51",
        "colab": {
          "base_uri": "https://localhost:8080/"
        },
        "outputId": "0452adc9-3c7c-4a52-b7ed-fd513b01e634"
      },
      "outputs": [
        {
          "output_type": "stream",
          "name": "stdout",
          "text": [
            "Analyzing: 2009-Obama.txt | characters: 13439\n"
          ]
        }
      ],
      "source": [
        "\n",
        "from nltk.corpus import inaugural\n",
        "fileids = inaugural.fileids()\n",
        "fileids[:10]  # preview a few\n",
        "# Choose one speech (change the index or pick a specific filename from 'fileids')\n",
        "s1 = fileids[-5]\n",
        "raw = inaugural.raw(s1)\n",
        "print(\"Analyzing:\", s1, \"| characters:\", len(raw))\n"
      ]
    },
    {
      "cell_type": "markdown",
      "id": "71e8e1a3",
      "metadata": {
        "id": "71e8e1a3"
      },
      "source": [
        "\n",
        "### Option 2 — Upload your own `.txt`\n",
        "> Must be **plain text** (e.g., speech, policy memo, report). If you upload multiple files, we’ll read the first one.\n",
        "\n",
        "\n",
        "If you don’t already have a `.txt` file (like the inaugural corpus examples), you can **make one directly in Colab**.  \n",
        "This is helpful if you want to analyze text copied from a website, a PDF, or your own writing.\n",
        "\n",
        "📝 Example: paste any text (such as a news article, policy speech, or blog post) into the triple quotes below."
      ]
    },
    {
      "cell_type": "code",
      "execution_count": 49,
      "id": "02ed2b83",
      "metadata": {
        "id": "02ed2b83",
        "colab": {
          "base_uri": "https://localhost:8080/"
        },
        "outputId": "8e6942b0-28f7-4142-b0c9-5ce3211d9cf6"
      },
      "outputs": [
        {
          "output_type": "stream",
          "name": "stdout",
          "text": [
            "✅ Saved mytext.txt\n",
            "To the sons of the proud Syrian people, I stand before you today with a heart full of hope and determination, addressing my words to all Syrian men and women, to those living in displacement camps, to the displaced and refugees, to the wounded and injured, to the families of the martyrs and the missing, to the revolutionary activists who have dedicated their lives to the struggle for a free Syria.”\n",
            "“I stand before you today after fifty-four days of our liberation, the liberation of Syria from th\n"
          ]
        }
      ],
      "source": [
        "\n",
        "# Create a plain-text file in Colab\n",
        "text = \"\"\"To the sons of the proud Syrian people, I stand before you today with a heart full of hope and determination, addressing my words to all Syrian men and women, to those living in displacement camps, to the displaced and refugees, to the wounded and injured, to the families of the martyrs and the missing, to the revolutionary activists who have dedicated their lives to the struggle for a free Syria.”\n",
        "“I stand before you today after fifty-four days of our liberation, the liberation of Syria from the shackles of a criminal regime that has oppressed us for decades. Fifty-four days have passed since the end of fifty-four years of the darkest forms of tyrannical rule in the history of Syria and the entire world.”\n",
        "“Syria was liberated thanks to God first, and then thanks to every person who struggled at home and abroad, every person who sacrificed his soul and blood, his home and money, his security and safety.”\n",
        "“Syria was liberated with the martyrs, the detainees, the tortured, the missing, and all their bereaved mothers and grieving families. Because of their sacrifices and the sacrifices of all of you, I stand here today to open together a new chapter in the history of our beloved country.”\n",
        "“This victory was launched from the throats of the demonstrators and the chants of the protesters in the squares and fields. It was launched from the fingers of Hamza al-Khatib and the chants of the demonstrations, and the groans of the detainees and tortured in the basements of Tadmur, Sednaya, and the Palestine Branch. It continued with the sacrifices of the revolutionaries who liberated the land of Syria, despite years of suffering from missiles, barrels, and chemical weapons. They did not bend or break.”\n",
        "“Brothers and sisters, I assumed responsibility for the country yesterday, after intensive consultations with legal experts to ensure the political process proceeds within legal norms and in a way that gives it the necessary legitimacy.”\n",
        "“From here, I address you today in my capacity as President of Syria in this fateful period, asking God to grant us all success in advancing our country and overcoming the challenges we face. This will not happen except through the solidarity of everyone, people and leadership.”\n",
        "“I speak to you today not as a ruler, but as a servant of our wounded homeland, striving with all my strength and will to achieve Syria’s unity and renaissance, all of us bearing in mind that this is a transitional phase, and it is part of a political process that requires the real participation of all Syrian men and women, at home and abroad, to build their future in freedom and dignity, without exclusion or marginalization.”\n",
        "“We will work to form a comprehensive transitional government that expresses the diversity of Syria, its men, women, and youth, and that will undertake the work of building the institutions of the new Syria until we reach the stage of free and fair elections.”\n",
        "“Based on my mandate for my current duties and the decision to dissolve the People’s Assembly, I will announce a preparatory committee to select a small legislative council to fill this void in the transitional phase.”\n",
        "“We will announce in the coming days the preparatory committee for the National Dialogue Conference, which will be a direct platform for deliberations, consultations and listening to various points of view on our upcoming political program.”\n",
        "“After completing these steps, we will announce the constitutional declaration to be the legal reference for the transitional phase.”\n",
        "“In the coming period, we will focus on setting our priorities within the following:\n",
        "Achieving civil peace and pursuing the criminals who shed Syrian blood and committed massacres and crimes against us, whether they hid inside the country or fled abroad, through true transitional justice.\n",
        "Completing the unity of Syrian lands; all of Syria, and imposing its sovereignty under one authority and on one land.\n",
        "Building strong state institutions based on efficiency and justice, free of corruption, favoritism, and bribery.\n",
        "Establishing the foundations of a strong economy that restores Syria’s regional and international standing, provides real, decent job opportunities, improves living conditions, and restores lost basic services.”\n",
        "“O sons of free Syria, building the homeland is our collective responsibility, and this is an invitation to all Syrians to participate in building a new homeland, ruled by justice and consultation”\n",
        "“Together, we will build the Syria of the future, the Syria of the beacon of knowledge and progress, and the haven of security and stability, the Syria of prosperity, progress and flourishing, the Syria that extends its hand with peace and respect, so that its people may return to a dear, generous, prosperous, safe, and secure homeland, God willing.”\n",
        "\n",
        "\"\"\"\n",
        "\n",
        "# Write the text into a .txt file\n",
        "with open(\"mytext.txt\", \"w\", encoding=\"utf-8\") as f:\n",
        "    f.write(text)\n",
        "\n",
        "print(\"✅ Saved mytext.txt\")\n",
        "\n",
        "# Load your saved .txt file\n",
        "with open(\"mytext.txt\", encoding=\"utf-8\") as f:\n",
        "    raw = f.read()\n",
        "\n",
        "print(raw[:500])  # print first 500 characters\n",
        "\n"
      ]
    },
    {
      "cell_type": "markdown",
      "id": "f60cb2b1",
      "metadata": {
        "id": "f60cb2b1"
      },
      "source": [
        "\n",
        "**Q:** Which text did you choose and why? *(Write a 1–2 sentence note below.)*\n"
      ]
    },
    {
      "cell_type": "code",
      "execution_count": 50,
      "id": "b98b454a",
      "metadata": {
        "id": "b98b454a",
        "colab": {
          "base_uri": "https://localhost:8080/"
        },
        "outputId": "44074d5b-2fea-4fc5-ec40-28cb8dd49fbb"
      },
      "outputs": [
        {
          "output_type": "stream",
          "name": "stdout",
          "text": [
            "\n",
            "(I have an interest in Middle East dynamics and as Syria's new leader has an \"interesting\" past, I am curious what he states are his priorities as he address the leaders of the world at the UNGA.)\n",
            "\n"
          ]
        }
      ],
      "source": [
        "\n",
        "# Your short reflection:\n",
        "choice_note = \"\"\"\n",
        "(I have an interest in Middle East dynamics and as Syria's new leader has an \"interesting\" past, I am curious what he states are his priorities as he address the leaders of the world at the UNGA.)\n",
        "\"\"\"\n",
        "print(choice_note)\n"
      ]
    },
    {
      "cell_type": "markdown",
      "id": "7fc2e3e5",
      "metadata": {
        "id": "7fc2e3e5"
      },
      "source": [
        "\n",
        "## Part B — Tokenize & Explore (10 min)\n",
        "Lowercase and keep only alphabetic tokens (drop punctuation/numbers) for a quick clean view.\n"
      ]
    },
    {
      "cell_type": "code",
      "execution_count": 51,
      "id": "ea7ba1f7",
      "metadata": {
        "id": "ea7ba1f7",
        "colab": {
          "base_uri": "https://localhost:8080/"
        },
        "outputId": "6f3b520c-80af-4348-f5e3-19bdb3780652"
      },
      "outputs": [
        {
          "output_type": "execute_result",
          "data": {
            "text/plain": [
              "(386,\n",
              " ['sons',\n",
              "  'proud',\n",
              "  'syrian',\n",
              "  'people',\n",
              "  'stand',\n",
              "  'today',\n",
              "  'heart',\n",
              "  'full',\n",
              "  'hope',\n",
              "  'determination',\n",
              "  'addressing',\n",
              "  'words',\n",
              "  'syrian',\n",
              "  'men',\n",
              "  'women',\n",
              "  'living',\n",
              "  'displacement',\n",
              "  'camps',\n",
              "  'displaced',\n",
              "  'refugees'])"
            ]
          },
          "metadata": {},
          "execution_count": 51
        }
      ],
      "source": [
        "from nltk.tokenize import word_tokenize\n",
        "from nltk.corpus import stopwords\n",
        "\n",
        "# Define the set of English stopwords\n",
        "stop_words = set(stopwords.words('english'))\n",
        "\n",
        "# Tokenize: split into tokens, lowercase them, keep alphabetic tokens only, and remove stop words\n",
        "tokens = [w.lower() for w in word_tokenize(raw) if w.isalpha() and w.lower() not in stop_words]\n",
        "len(tokens), tokens[:20]"
      ]
    },
    {
      "cell_type": "markdown",
      "id": "662866aa",
      "metadata": {
        "id": "662866aa"
      },
      "source": [
        "\n",
        "**Questions:**  \n",
        "1) How many tokens (words) are in your text?  There are 790 tokens in my text.\n",
        "2) List 5 tokens you expected to see. Were they present? syrian, trust, i, fight, and rebuild\n"
      ]
    },
    {
      "cell_type": "markdown",
      "id": "9c014826",
      "metadata": {
        "id": "9c014826"
      },
      "source": [
        "\n",
        "## Part C — Keyword in Context (10 min)\n",
        "Use *concordance* to see your keywords in context.\n"
      ]
    },
    {
      "cell_type": "code",
      "execution_count": 52,
      "id": "21a6358a",
      "metadata": {
        "id": "21a6358a",
        "colab": {
          "base_uri": "https://localhost:8080/"
        },
        "outputId": "345ac26e-f4c9-4ba9-da8d-e4d191e27471"
      },
      "outputs": [
        {
          "output_type": "stream",
          "name": "stdout",
          "text": [
            "Displaying 1 of 1 matches:\n",
            "n knowledge progress security stability syria prosperity progress flo\n",
            "Displaying 2 of 2 matches:\n",
            "ithin following achieving civil peace pursuing criminals shed syrian \n",
            " flourishing syria extends hand peace respect people may return dear \n"
          ]
        }
      ],
      "source": [
        "\n",
        "from nltk.text import Text\n",
        "T = Text(tokens)\n",
        "\n",
        "# Try two policy keywords of interest (edit these):\n",
        "T.concordance(\"stability\", width=70, lines=12)\n",
        "T.concordance(\"peace\", width=70, lines=12)\n"
      ]
    },
    {
      "cell_type": "markdown",
      "id": "d5c80aaf",
      "metadata": {
        "id": "d5c80aaf"
      },
      "source": [
        "\n",
        "**Prompt:** In 2–3 sentences, what do the surrounding words suggest about how these topics are framed?\n"
      ]
    },
    {
      "cell_type": "code",
      "execution_count": 53,
      "id": "ff99be15",
      "metadata": {
        "id": "ff99be15",
        "colab": {
          "base_uri": "https://localhost:8080/"
        },
        "outputId": "7e401d94-287c-4ea1-fea7-0c8f949ab290"
      },
      "outputs": [
        {
          "output_type": "stream",
          "name": "stdout",
          "text": [
            "\n",
            "These topics are framed as Syria's path forward after more than a decade of Civil War. The country has been racked with civil strife, violence, and instability.\n",
            "He also mentions seeking accountability those whose past transgressions hurt the people of Syria.\n",
            "\n"
          ]
        }
      ],
      "source": [
        "\n",
        "analysis_notes = \"\"\"\n",
        "These topics are framed as Syria's path forward after more than a decade of Civil War. The country has been racked with civil strife, violence, and instability.\n",
        "He also mentions seeking accountability those whose past transgressions hurt the people of Syria.\n",
        "\"\"\"\n",
        "print(analysis_notes)\n"
      ]
    },
    {
      "cell_type": "markdown",
      "id": "a5dfbf37",
      "metadata": {
        "id": "a5dfbf37"
      },
      "source": [
        "\n",
        "## Part D — Dispersion Plot (10 min)\n",
        "Where do topics appear (beginning/middle/end)? Replace terms with 3–5 of your own.\n"
      ]
    },
    {
      "cell_type": "code",
      "execution_count": 54,
      "id": "d213dbeb",
      "metadata": {
        "id": "d213dbeb",
        "colab": {
          "base_uri": "https://localhost:8080/",
          "height": 472
        },
        "outputId": "cbe43d50-a526-4c90-bf82-0dabcc818d53"
      },
      "outputs": [
        {
          "output_type": "display_data",
          "data": {
            "text/plain": [
              "<Figure size 640x480 with 1 Axes>"
            ],
            "image/png": "[encoded data removed]"
          },
          "metadata": {}
        }
      ],
      "source": [
        "\n",
        "# NLTK's dispersion_plot uses matplotlib under the hood\n",
        "T.dispersion_plot([\"economy\", \"syria\", \"freedom\", \"security\", \"peace\"])\n"
      ]
    },
    {
      "cell_type": "markdown",
      "id": "f37b8dff",
      "metadata": {
        "id": "f37b8dff"
      },
      "source": [
        "\n",
        "**Prompt:** What patterns do you notice? Why might this matter for policy framing?\n"
      ]
    },
    {
      "cell_type": "code",
      "execution_count": 55,
      "id": "611a3062",
      "metadata": {
        "id": "611a3062",
        "colab": {
          "base_uri": "https://localhost:8080/"
        },
        "outputId": "3420a135-879c-4a4c-c5e3-abeceb0a00e4"
      },
      "outputs": [
        {
          "output_type": "stream",
          "name": "stdout",
          "text": [
            "\n",
            "We a mention of security and peace more frequently than economy or freedom when he relates these words to Syria. \n",
            "His message seems to focus on security and peace after the overthrow of Assad and the end of the Civil War.\n",
            "\n"
          ]
        }
      ],
      "source": [
        "\n",
        "framing_notes = \"\"\"\n",
        "We a mention of security and peace more frequently than economy or freedom when he relates these words to Syria.\n",
        "His message seems to focus on security and peace after the overthrow of Assad and the end of the Civil War.\n",
        "\"\"\"\n",
        "print(framing_notes)\n"
      ]
    },
    {
      "cell_type": "markdown",
      "id": "215840fc",
      "metadata": {
        "id": "215840fc"
      },
      "source": [
        "\n",
        "## Part E — Lexical Diversity (10 min)\n",
        "Lexical diversity = unique words / total words. Use a fixed slice for fair comparisons.\n"
      ]
    },
    {
      "cell_type": "code",
      "execution_count": 56,
      "id": "24ddddea",
      "metadata": {
        "id": "24ddddea",
        "colab": {
          "base_uri": "https://localhost:8080/"
        },
        "outputId": "54a5194e-8d08-420e-ba54-0174945433b2"
      },
      "outputs": [
        {
          "output_type": "stream",
          "name": "stdout",
          "text": [
            "Lexical diversity (all tokens): 0.7073\n",
            "Lexical diversity (first 2,000): 0.7073\n"
          ]
        }
      ],
      "source": [
        "\n",
        "def lexical_diversity(tok_list, n=None):\n",
        "    \"\"\"Return unique/total; if n is provided, compute on first n tokens.\"\"\"\n",
        "    if n:\n",
        "        tok_list = tok_list[:n]\n",
        "    total = len(tok_list) if tok_list else 1\n",
        "    return len(set(tok_list)) / total\n",
        "\n",
        "div_all = lexical_diversity(tokens)\n",
        "div_2k  = lexical_diversity(tokens, 2000)\n",
        "\n",
        "print(\"Lexical diversity (all tokens):\", round(div_all, 4))\n",
        "print(\"Lexical diversity (first 2,000):\", round(div_2k, 4))\n"
      ]
    },
    {
      "cell_type": "markdown",
      "id": "b8e24c2e",
      "metadata": {
        "id": "b8e24c2e"
      },
      "source": [
        "\n",
        "**Why it matters (policy analysis):** Differences in lexical diversity can reflect changes in audience targeting, technicality vs. accessibility, or agenda breadth (e.g., a narrow crisis speech vs. a broad programmatic agenda).  \n",
        "\n",
        "*(Optional)* Compare with a second speech by repeating Part A for another `fileid` and recomputing diversity on the same slice size.\n"
      ]
    },
    {
      "cell_type": "markdown",
      "id": "cc289ee1",
      "metadata": {
        "id": "cc289ee1"
      },
      "source": [
        "\n",
        "## Part F — Reflection (10 min)\n",
        "- Which tool felt most useful for policy analysis (concordance, dispersion, lexical diversity)? Why?  \n",
        "- How could you apply this to a real policy dataset (hearings, legislation, news, social media)?\n"
      ]
    },
    {
      "cell_type": "code",
      "execution_count": 57,
      "id": "1ef83bef",
      "metadata": {
        "id": "1ef83bef",
        "colab": {
          "base_uri": "https://localhost:8080/"
        },
        "outputId": "b0c387be-c3a7-4d93-db67-ec88e16f8991"
      },
      "outputs": [
        {
          "output_type": "stream",
          "name": "stdout",
          "text": [
            "\n",
            "I think the concordance tool was most useful in this example as it showed the context of the keywords I was looking for by\n",
            "providing a portion of the sentence that the keywords were found. It provide me a better idea of how these words were used when compared to the dispersion \n",
            "plot.\n"
          ]
        }
      ],
      "source": [
        "\n",
        "final_reflection = \"\"\"\n",
        "I think the concordance tool was most useful in this example as it showed the context of the keywords I was looking for by\n",
        "providing a portion of the sentence that the keywords were found. It provide me a better idea of how these words were used when compared to the dispersion\n",
        "plot.\"\"\"\n",
        "print(final_reflection)\n"
      ]
    },
    {
      "cell_type": "markdown",
      "id": "4a38ee4c",
      "metadata": {
        "id": "4a38ee4c"
      },
      "source": [
        "\n",
        "---\n",
        "## 🚀 Stretch Challenges (Optional)\n",
        "\n",
        "### 1) Collocations (common policy phrases)\n",
        "Find frequently co-occurring word pairs (bigrams). These can reveal informative policy phrases (e.g., *national security*, *climate change*).\n"
      ]
    },
    {
      "cell_type": "code",
      "execution_count": 58,
      "id": "ccf4b77b",
      "metadata": {
        "id": "ccf4b77b",
        "colab": {
          "base_uri": "https://localhost:8080/"
        },
        "outputId": "6fd8dff4-a29a-46f6-ec81-dcb980789ee1"
      },
      "outputs": [
        {
          "output_type": "execute_result",
          "data": {
            "text/plain": [
              "[('men', 'women'), ('stand', 'today')]"
            ]
          },
          "metadata": {},
          "execution_count": 58
        }
      ],
      "source": [
        "\n",
        "from nltk.collocations import BigramAssocMeasures, BigramCollocationFinder\n",
        "\n",
        "# Use a filtered token list (already lowercase & alphabetic)\n",
        "finder = BigramCollocationFinder.from_words(tokens)\n",
        "# Only consider reasonably frequent bigrams (adjust min_freq to taste)\n",
        "finder.apply_freq_filter(3)\n",
        "bigrams_pmi = finder.nbest(BigramAssocMeasures.pmi, 15)\n",
        "bigrams_pmi\n"
      ]
    },
    {
      "cell_type": "markdown",
      "id": "bcc38a52",
      "metadata": {
        "id": "bcc38a52"
      },
      "source": [
        "\n",
        "### 2) VADER sentiment on short snippets\n",
        "Useful for very short statements (tweets, headlines). For long speeches, sentiment averages toward neutral.\n"
      ]
    },
    {
      "cell_type": "code",
      "execution_count": 59,
      "id": "e0ee8fde",
      "metadata": {
        "id": "e0ee8fde",
        "colab": {
          "base_uri": "https://localhost:8080/"
        },
        "outputId": "6f2a4e97-bf3d-4915-fc16-e4e02a259e7a"
      },
      "outputs": [
        {
          "output_type": "stream",
          "name": "stdout",
          "text": [
            "We will rebuild our economy and create jobs. -> {'neg': 0.0, 'neu': 0.769, 'pos': 0.231, 'compound': 0.2732}\n",
            "War brings hardship and loss. -> {'neg': 0.81, 'neu': 0.19, 'pos': 0.0, 'compound': -0.8176}\n",
            "Together we can protect our freedoms. -> {'neg': 0.0, 'neu': 0.455, 'pos': 0.545, 'compound': 0.5859}\n"
          ]
        }
      ],
      "source": [
        "\n",
        "# VADER is in nltk.sentiment\n",
        "nltk.download('vader_lexicon', quiet=True)\n",
        "from nltk.sentiment import SentimentIntensityAnalyzer\n",
        "\n",
        "sia = SentimentIntensityAnalyzer()\n",
        "\n",
        "samples = [\n",
        "    \"We will rebuild our economy and create jobs.\",\n",
        "    \"War brings hardship and loss.\",\n",
        "    \"Together we can protect our freedoms.\"\n",
        "]\n",
        "\n",
        "for s in samples:\n",
        "    print(s, \"->\", sia.polarity_scores(s))\n"
      ]
    },
    {
      "cell_type": "markdown",
      "id": "f3478974",
      "metadata": {
        "id": "f3478974"
      },
      "source": [
        "\n",
        "### 3) Compare two texts (quick)\n",
        "Repick another `fileid` and compute lexical diversity on the same slice (e.g., 2,000 tokens). What differences do you see?\n"
      ]
    },
    {
      "cell_type": "code",
      "execution_count": 60,
      "id": "5a6c18f2",
      "metadata": {
        "id": "5a6c18f2"
      },
      "outputs": [],
      "source": [
        "\n",
        "# Example scaffold:\n",
        "# s2 = fileids[-1]\n",
        "# raw2 = inaugural.raw(s2)\n",
        "# tokens2 = [w.lower() for w in word_tokenize(raw2) if w.isalpha()]\n",
        "# print(\"A:\", s1, \"div(2k) =\", round(lexical_diversity(tokens, 2000), 4))\n",
        "# print(\"B:\", s2, \"div(2k) =\", round(lexical_diversity(tokens2, 2000), 4))\n"
      ]
    },
    {
      "cell_type": "markdown",
      "id": "b32b9bbe",
      "metadata": {
        "id": "b32b9bbe"
      },
      "source": [
        "\n",
        "### 4) Quick frequency table + matplotlib bar chart\n",
        "Show top 15 tokens (after simple cleaning). *Keep charts simple and readable.*\n"
      ]
    },
    {
      "cell_type": "code",
      "execution_count": 61,
      "id": "1d139120",
      "metadata": {
        "id": "1d139120",
        "colab": {
          "base_uri": "https://localhost:8080/",
          "height": 407
        },
        "outputId": "585076a2-7ba2-4e6e-f039-7be958e7b159"
      },
      "outputs": [
        {
          "output_type": "display_data",
          "data": {
            "text/plain": [
              "<Figure size 1000x400 with 1 Axes>"
            ],
            "image/png": "[encoded data removed]"
          },
          "metadata": {}
        }
      ],
      "source": [
        "\n",
        "from nltk import FreqDist\n",
        "import matplotlib.pyplot as plt\n",
        "\n",
        "fd = FreqDist(tokens)\n",
        "top = fd.most_common(15)\n",
        "\n",
        "labels, counts = zip(*top)\n",
        "plt.figure(figsize=(10,4))\n",
        "plt.bar(range(len(labels)), counts)\n",
        "plt.xticks(range(len(labels)), labels, rotation=45, ha='right')\n",
        "plt.title(\"Top 15 tokens\")\n",
        "plt.tight_layout()\n",
        "plt.show()\n"
      ]
    }
  ],
  "metadata": {
    "colab": {
      "provenance": [],
      "include_colab_link": true
    },
    "language_info": {
      "name": "python"
    },
    "kernelspec": {
      "name": "python3",
      "display_name": "Python 3"
    }
  },
  "nbformat": 4,
  "nbformat_minor": 5
}